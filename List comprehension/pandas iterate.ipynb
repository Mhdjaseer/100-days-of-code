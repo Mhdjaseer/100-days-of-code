{
 "cells": [
  {
   "cell_type": "code",
   "execution_count": null,
   "metadata": {},
   "outputs": [],
   "source": [
    "#How to iterate over rows in a Data frame in pandas\n",
    "\"\"\"\n",
    "Python is a great language for doing data analysis. primarily because of the fantastic \n",
    "ecosystem of data-centric Pythoon packages. Pandas is one of those package and makes importing \n",
    "and analyzing data much easier \n",
    "\"\"\""
   ]
  },
  {
   "cell_type": "code",
   "execution_count": 2,
   "metadata": {},
   "outputs": [
    {
     "name": "stdout",
     "output_type": "stream",
     "text": [
      "Given DataFrame :\n",
      "         Name  Age    Stream  Percentage\n",
      "0      Ankit   21      Math          88\n",
      "1       Amit   19  Commerce          92\n",
      "2  Aishwarya   20      Arts          95\n",
      "3   Priyanka   18   Biology          70\n",
      "\n",
      "Iterating over rows using index attribute :\n",
      "\n",
      "Ankit Math\n",
      "Amit Commerce\n",
      "Aishwarya Arts\n",
      "Priyanka Biology\n"
     ]
    }
   ],
   "source": [
    "import pandas as pd\n",
    "\n",
    "data = {'Name': ['Ankit', 'Amit',\n",
    "                 'Aishwarya', 'Priyanka'],\n",
    "        'Age': [21, 19, 20, 18],\n",
    "        'Stream': ['Math', 'Commerce',\n",
    "                   'Arts', 'Biology'],\n",
    "        'Percentage': [88, 92, 95, 70]}\n",
    "\n",
    "df=pd.DataFrame(data,columns=['Name','Age','Stream','Percentage'])\n",
    "\n",
    "print(\"Given DataFrame :\\n\",df)\n",
    "\n",
    "print(\"\\nIterating over rows using index attribute :\\n\")\n",
    "\n",
    "for ind in df.index:\n",
    "    print(df['Name'][ind],df['Stream'][ind])"
   ]
  },
  {
   "cell_type": "code",
   "execution_count": 5,
   "metadata": {},
   "outputs": [
    {
     "name": "stdout",
     "output_type": "stream",
     "text": [
      "Given Dataframe :\n",
      "         Name  Age    Stream  Percentage\n",
      "0      Ankit   21      Math          88\n",
      "1       Amit   19  Commerce          92\n",
      "2  Aishwarya   20      Arts          95\n",
      "3   Priyanka   18   Biology          70\n",
      "\n",
      "Iterating over using loc function :\n",
      "\n",
      "Ankit 21\n",
      "Amit 19\n",
      "Aishwarya 20\n",
      "Priyanka 18\n"
     ]
    }
   ],
   "source": [
    "# method 2: Using loc[] function of the DataFrame\n",
    "import pandas as pd \n",
    "\n",
    "print(\"Given Dataframe :\\n\",df)\n",
    "\n",
    "print(\"\\nIterating over using loc function :\\n\")\n",
    "\n",
    "for i in range(len(df)):\n",
    "    print(df.loc[i,\"Name\"],df.loc[i,\"Age\"])"
   ]
  },
  {
   "cell_type": "code",
   "execution_count": 6,
   "metadata": {},
   "outputs": [
    {
     "name": "stdout",
     "output_type": "stream",
     "text": [
      "Given Dataframe :\n",
      "         Name  Age    Stream  Percentage\n",
      "0      Ankit   21      Math          88\n",
      "1       Amit   19  Commerce          92\n",
      "2  Aishwarya   20      Arts          95\n",
      "3   Priyanka   18   Biology          70\n",
      "\n",
      "Interating over rows using iloc function:\n",
      "\n",
      "Ankit Math\n",
      "Amit Commerce\n",
      "Aishwarya Arts\n",
      "Priyanka Biology\n"
     ]
    }
   ],
   "source": [
    "print(\"Given Dataframe :\\n\",df)\n",
    "print(\"\\nInterating over rows using iloc function:\\n\")\n",
    "\n",
    "for i in range(len(df)):\n",
    "    print(df.iloc[i,0],df.iloc[i,2])"
   ]
  },
  {
   "cell_type": "code",
   "execution_count": 7,
   "metadata": {},
   "outputs": [
    {
     "name": "stdout",
     "output_type": "stream",
     "text": [
      "Ankit 21\n",
      "Amit 19\n",
      "Aishwarya 20\n",
      "Priyanka 18\n"
     ]
    }
   ],
   "source": [
    "# method 4 \n",
    "# using iterrow() method of Dataframe\n",
    "\n",
    "for index,row in df.iterrows():\n",
    "    print(row[\"Name\"],row[\"Age\"])"
   ]
  },
  {
   "cell_type": "code",
   "execution_count": 8,
   "metadata": {},
   "outputs": [
    {
     "name": "stdout",
     "output_type": "stream",
     "text": [
      "Ankit 88\n",
      "Amit 92\n",
      "Aishwarya 95\n",
      "Priyanka 70\n"
     ]
    }
   ],
   "source": [
    "# method :5 Using itertuples() method of the Dataframe \n",
    "for row in df.itertuples(index=True,name=\"Pandas\"):\n",
    "    print(getattr(row,\"Name\"),getattr(row,\"Percentage\"))"
   ]
  },
  {
   "cell_type": "code",
   "execution_count": 9,
   "metadata": {},
   "outputs": [
    {
     "name": "stdout",
     "output_type": "stream",
     "text": [
      "0        Ankit 88\n",
      "1         Amit 92\n",
      "2    Aishwarya 95\n",
      "3     Priyanka 70\n",
      "dtype: object\n"
     ]
    }
   ],
   "source": [
    "# method 6 Using apply() method of dataframe \n",
    "\n",
    "print(df.apply(lambda row:row[\"Name\"]+\" \"+ str(row[\"Percentage\"]),axis=1))"
   ]
  }
 ],
 "metadata": {
  "kernelspec": {
   "display_name": "env",
   "language": "python",
   "name": "python3"
  },
  "language_info": {
   "codemirror_mode": {
    "name": "ipython",
    "version": 3
   },
   "file_extension": ".py",
   "mimetype": "text/x-python",
   "name": "python",
   "nbconvert_exporter": "python",
   "pygments_lexer": "ipython3",
   "version": "3.11.4"
  }
 },
 "nbformat": 4,
 "nbformat_minor": 2
}
