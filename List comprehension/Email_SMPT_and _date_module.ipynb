{
 "cells": [
  {
   "cell_type": "code",
   "execution_count": null,
   "metadata": {},
   "outputs": [],
   "source": [
    "# smtplib\n",
    "# smtp protocol client (Simple Mail Transfer Protocol (SMTP))\n",
    "\"\"\"\n",
    "Email is emerging as one of the most valuable services on the internet today. Most internet\n",
    "systems use SMTP as a method to transfer mail from one user to another . SMTP  is a push \n",
    "protocol and is used to send the mail whereas POP (post office protocol ) or IMAP(internet \n",
    "message access protocol) is used to retrieve those email at the receiver's side.\n",
    "\n",
    "\n",
    "SMTP Fundamentals \n",
    "    SMTP is an application layer protocol , the client who wants to send the mail opens a TCP \n",
    "    connection to the SMTP server and then  sends the mail across the connection . The SMTP \n",
    "    server is an always-on listening mode. As soon as it listens for a TCP connection from any\n",
    "    client , the SMTP process initiates a connection throgh port 25 . After successfully \n",
    "    establishimd a TCP connection the client process sends the mail instantly . \n",
    "\n",
    "\n",
    "SMTP Protocol \n",
    "    The SMTP model is of two types:\n",
    "\n",
    "1) End-to-end method \n",
    "2)Store-and-forward method\n",
    "\n",
    "The end-to-end model is used to communicate between different organizations whereas the \n",
    "store and forward method is used within an organization. An SMTP client who wants to send the\n",
    "mail will contact the destination's host SMTP directly, in order to send the mail to the \n",
    "destination. The SMTP server will keep the mail to itself the mail to itself until it is \n",
    "successfully copied to the reciever's SMTP. \n",
    "\n",
    "The client SMTP is the one that initiates the session so let us call it the client-SMTP and \n",
    "server SMTP is the one that responds to session request so let us call it receicer-SMTP. The \n",
    "client-SMTP will start the session and the receiver SMTP will respond to the request . \n",
    "\n",
    "\n",
    "Model of SMTP system\n",
    "    in the SMTP model user deals with the user agent (UA),for example , Microsoft Outlook , \n",
    "    NetsScpe, mozilla, etc\n",
    "\"\"\"\n"
   ]
  }
 ],
 "metadata": {
  "language_info": {
   "name": "python"
  }
 },
 "nbformat": 4,
 "nbformat_minor": 2
}
